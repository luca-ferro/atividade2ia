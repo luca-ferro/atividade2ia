{
  "nbformat": 4,
  "nbformat_minor": 0,
  "metadata": {
    "colab": {
      "provenance": [],
      "include_colab_link": true
    },
    "kernelspec": {
      "name": "python3",
      "display_name": "Python 3"
    },
    "language_info": {
      "name": "python"
    }
  },
  "cells": [
    {
      "cell_type": "markdown",
      "metadata": {
        "id": "view-in-github",
        "colab_type": "text"
      },
      "source": [
        "<a href=\"https://colab.research.google.com/github/luca-ferro/atividade2ia/blob/main/Atividade2IA.ipynb\" target=\"_parent\"><img src=\"https://colab.research.google.com/assets/colab-badge.svg\" alt=\"Open In Colab\"/></a>"
      ]
    },
    {
      "cell_type": "markdown",
      "source": [
        "**UNIFAL - UNIVERSIDADE FEDERAL DE ALFENAS** <br>\n",
        "Bacharelado de Ciência da Computação\n",
        "\n",
        "\n",
        "---\n",
        "\n",
        "\n",
        "Disciplina de Inteligência Artificial\n",
        "\n",
        "Augusto Vieira de Oliveira | 2021.1.08.002<br>\n",
        "Luca Ferro Oliveira | 2021.1.08.014"
      ],
      "metadata": {
        "id": "2iH4V50vN2M2"
      }
    },
    {
      "cell_type": "markdown",
      "source": [
        "### Classificação"
      ],
      "metadata": {
        "id": "01j2wcV9PreR"
      }
    },
    {
      "cell_type": "markdown",
      "source": [
        "Para desenvolver esse projeto, vamos utilizar a base de dados disponível em https://www.kaggle.com/datasets/vijayvvenkitesh/microsoft-stock-time-series-analysis\n",
        "<br>\n",
        "<br>\n",
        "Base de dados: **Microsoft_Stock.csv**\n",
        "<br>\n",
        "<br>\n",
        "Atributos:\n",
        "\n",
        "\n",
        "*   Date (Data)\n",
        "*   Open (Preço de abertura)\n",
        "*   High (Valor mais alto do dia)\n",
        "*   Low (Valor mais baixo do dia)\n",
        "*   Close (Preço de fechamento)"
      ],
      "metadata": {
        "id": "s4P1Iv2NP09I"
      }
    },
    {
      "cell_type": "markdown",
      "source": [
        "> Importando bibliotecas e a base de dados:"
      ],
      "metadata": {
        "id": "wnqpFaT0RXuc"
      }
    },
    {
      "cell_type": "code",
      "execution_count": 25,
      "metadata": {
        "id": "ktRj-_dpnlmV"
      },
      "outputs": [],
      "source": [
        "import pandas as pd\n",
        "from sklearn.linear_model import LinearRegression\n",
        "import numpy as np\n",
        "import matplotlib.pyplot as plt\n",
        "stock = pd.read_csv(\"https://raw.githubusercontent.com/luca-ferro/atividade2ia/main/Microsoft_Stock.csv\")"
      ]
    },
    {
      "cell_type": "markdown",
      "source": [
        "> Exibir a tabela dos dados:"
      ],
      "metadata": {
        "id": "sNuliX3TRq8D"
      }
    },
    {
      "cell_type": "code",
      "source": [
        "stock.head()"
      ],
      "metadata": {
        "colab": {
          "base_uri": "https://localhost:8080/",
          "height": 206
        },
        "id": "w58XD67Lp7QA",
        "outputId": "eca26e1f-cf6e-4436-f3ed-0eb874f83cba"
      },
      "execution_count": 26,
      "outputs": [
        {
          "output_type": "execute_result",
          "data": {
            "text/plain": [
              "                Date   Open   High    Low  Close    Volume\n",
              "0  4/1/2015 16:00:00  40.60  40.76  40.31  40.72  36865322\n",
              "1  4/2/2015 16:00:00  40.66  40.74  40.12  40.29  37487476\n",
              "2  4/6/2015 16:00:00  40.34  41.78  40.18  41.55  39223692\n",
              "3  4/7/2015 16:00:00  41.61  41.91  41.31  41.53  28809375\n",
              "4  4/8/2015 16:00:00  41.48  41.69  41.04  41.42  24753438"
            ],
            "text/html": [
              "\n",
              "  <div id=\"df-1a3f920c-249f-4b63-99ac-f24ecad47f2a\">\n",
              "    <div class=\"colab-df-container\">\n",
              "      <div>\n",
              "<style scoped>\n",
              "    .dataframe tbody tr th:only-of-type {\n",
              "        vertical-align: middle;\n",
              "    }\n",
              "\n",
              "    .dataframe tbody tr th {\n",
              "        vertical-align: top;\n",
              "    }\n",
              "\n",
              "    .dataframe thead th {\n",
              "        text-align: right;\n",
              "    }\n",
              "</style>\n",
              "<table border=\"1\" class=\"dataframe\">\n",
              "  <thead>\n",
              "    <tr style=\"text-align: right;\">\n",
              "      <th></th>\n",
              "      <th>Date</th>\n",
              "      <th>Open</th>\n",
              "      <th>High</th>\n",
              "      <th>Low</th>\n",
              "      <th>Close</th>\n",
              "      <th>Volume</th>\n",
              "    </tr>\n",
              "  </thead>\n",
              "  <tbody>\n",
              "    <tr>\n",
              "      <th>0</th>\n",
              "      <td>4/1/2015 16:00:00</td>\n",
              "      <td>40.60</td>\n",
              "      <td>40.76</td>\n",
              "      <td>40.31</td>\n",
              "      <td>40.72</td>\n",
              "      <td>36865322</td>\n",
              "    </tr>\n",
              "    <tr>\n",
              "      <th>1</th>\n",
              "      <td>4/2/2015 16:00:00</td>\n",
              "      <td>40.66</td>\n",
              "      <td>40.74</td>\n",
              "      <td>40.12</td>\n",
              "      <td>40.29</td>\n",
              "      <td>37487476</td>\n",
              "    </tr>\n",
              "    <tr>\n",
              "      <th>2</th>\n",
              "      <td>4/6/2015 16:00:00</td>\n",
              "      <td>40.34</td>\n",
              "      <td>41.78</td>\n",
              "      <td>40.18</td>\n",
              "      <td>41.55</td>\n",
              "      <td>39223692</td>\n",
              "    </tr>\n",
              "    <tr>\n",
              "      <th>3</th>\n",
              "      <td>4/7/2015 16:00:00</td>\n",
              "      <td>41.61</td>\n",
              "      <td>41.91</td>\n",
              "      <td>41.31</td>\n",
              "      <td>41.53</td>\n",
              "      <td>28809375</td>\n",
              "    </tr>\n",
              "    <tr>\n",
              "      <th>4</th>\n",
              "      <td>4/8/2015 16:00:00</td>\n",
              "      <td>41.48</td>\n",
              "      <td>41.69</td>\n",
              "      <td>41.04</td>\n",
              "      <td>41.42</td>\n",
              "      <td>24753438</td>\n",
              "    </tr>\n",
              "  </tbody>\n",
              "</table>\n",
              "</div>\n",
              "      <button class=\"colab-df-convert\" onclick=\"convertToInteractive('df-1a3f920c-249f-4b63-99ac-f24ecad47f2a')\"\n",
              "              title=\"Convert this dataframe to an interactive table.\"\n",
              "              style=\"display:none;\">\n",
              "        \n",
              "  <svg xmlns=\"http://www.w3.org/2000/svg\" height=\"24px\"viewBox=\"0 0 24 24\"\n",
              "       width=\"24px\">\n",
              "    <path d=\"M0 0h24v24H0V0z\" fill=\"none\"/>\n",
              "    <path d=\"M18.56 5.44l.94 2.06.94-2.06 2.06-.94-2.06-.94-.94-2.06-.94 2.06-2.06.94zm-11 1L8.5 8.5l.94-2.06 2.06-.94-2.06-.94L8.5 2.5l-.94 2.06-2.06.94zm10 10l.94 2.06.94-2.06 2.06-.94-2.06-.94-.94-2.06-.94 2.06-2.06.94z\"/><path d=\"M17.41 7.96l-1.37-1.37c-.4-.4-.92-.59-1.43-.59-.52 0-1.04.2-1.43.59L10.3 9.45l-7.72 7.72c-.78.78-.78 2.05 0 2.83L4 21.41c.39.39.9.59 1.41.59.51 0 1.02-.2 1.41-.59l7.78-7.78 2.81-2.81c.8-.78.8-2.07 0-2.86zM5.41 20L4 18.59l7.72-7.72 1.47 1.35L5.41 20z\"/>\n",
              "  </svg>\n",
              "      </button>\n",
              "      \n",
              "  <style>\n",
              "    .colab-df-container {\n",
              "      display:flex;\n",
              "      flex-wrap:wrap;\n",
              "      gap: 12px;\n",
              "    }\n",
              "\n",
              "    .colab-df-convert {\n",
              "      background-color: #E8F0FE;\n",
              "      border: none;\n",
              "      border-radius: 50%;\n",
              "      cursor: pointer;\n",
              "      display: none;\n",
              "      fill: #1967D2;\n",
              "      height: 32px;\n",
              "      padding: 0 0 0 0;\n",
              "      width: 32px;\n",
              "    }\n",
              "\n",
              "    .colab-df-convert:hover {\n",
              "      background-color: #E2EBFA;\n",
              "      box-shadow: 0px 1px 2px rgba(60, 64, 67, 0.3), 0px 1px 3px 1px rgba(60, 64, 67, 0.15);\n",
              "      fill: #174EA6;\n",
              "    }\n",
              "\n",
              "    [theme=dark] .colab-df-convert {\n",
              "      background-color: #3B4455;\n",
              "      fill: #D2E3FC;\n",
              "    }\n",
              "\n",
              "    [theme=dark] .colab-df-convert:hover {\n",
              "      background-color: #434B5C;\n",
              "      box-shadow: 0px 1px 3px 1px rgba(0, 0, 0, 0.15);\n",
              "      filter: drop-shadow(0px 1px 2px rgba(0, 0, 0, 0.3));\n",
              "      fill: #FFFFFF;\n",
              "    }\n",
              "  </style>\n",
              "\n",
              "      <script>\n",
              "        const buttonEl =\n",
              "          document.querySelector('#df-1a3f920c-249f-4b63-99ac-f24ecad47f2a button.colab-df-convert');\n",
              "        buttonEl.style.display =\n",
              "          google.colab.kernel.accessAllowed ? 'block' : 'none';\n",
              "\n",
              "        async function convertToInteractive(key) {\n",
              "          const element = document.querySelector('#df-1a3f920c-249f-4b63-99ac-f24ecad47f2a');\n",
              "          const dataTable =\n",
              "            await google.colab.kernel.invokeFunction('convertToInteractive',\n",
              "                                                     [key], {});\n",
              "          if (!dataTable) return;\n",
              "\n",
              "          const docLinkHtml = 'Like what you see? Visit the ' +\n",
              "            '<a target=\"_blank\" href=https://colab.research.google.com/notebooks/data_table.ipynb>data table notebook</a>'\n",
              "            + ' to learn more about interactive tables.';\n",
              "          element.innerHTML = '';\n",
              "          dataTable['output_type'] = 'display_data';\n",
              "          await google.colab.output.renderOutput(dataTable, element);\n",
              "          const docLink = document.createElement('div');\n",
              "          docLink.innerHTML = docLinkHtml;\n",
              "          element.appendChild(docLink);\n",
              "        }\n",
              "      </script>\n",
              "    </div>\n",
              "  </div>\n",
              "  "
            ]
          },
          "metadata": {},
          "execution_count": 26
        }
      ]
    },
    {
      "cell_type": "markdown",
      "source": [
        "> Seleção dos atributos para aplicação em janela deslizante:"
      ],
      "metadata": {
        "id": "5eYjZ9KBi3gp"
      }
    },
    {
      "cell_type": "code",
      "source": [
        "closingprice = stock['Close']\n",
        "date = stock['Date']\n",
        "df = pd.concat([date, closingprice], axis=1, keys=('Date and Time','| Closing Price'))\n",
        "df.tail(6)"
      ],
      "metadata": {
        "colab": {
          "base_uri": "https://localhost:8080/",
          "height": 237
        },
        "id": "L9Jyj6bagvuN",
        "outputId": "82ed355f-89fc-4f39-ba0b-44c8da6e7f72"
      },
      "execution_count": 46,
      "outputs": [
        {
          "output_type": "execute_result",
          "data": {
            "text/plain": [
              "           Date and Time  | Closing Price\n",
              "1505  3/24/2021 16:00:00           235.46\n",
              "1506  3/25/2021 16:00:00           232.34\n",
              "1507  3/26/2021 16:00:00           236.48\n",
              "1508  3/29/2021 16:00:00           235.24\n",
              "1509  3/30/2021 16:00:00           231.85\n",
              "1510  3/31/2021 16:00:00           235.77"
            ],
            "text/html": [
              "\n",
              "  <div id=\"df-8df68faf-2f38-48b4-84cc-acadd7b2620f\">\n",
              "    <div class=\"colab-df-container\">\n",
              "      <div>\n",
              "<style scoped>\n",
              "    .dataframe tbody tr th:only-of-type {\n",
              "        vertical-align: middle;\n",
              "    }\n",
              "\n",
              "    .dataframe tbody tr th {\n",
              "        vertical-align: top;\n",
              "    }\n",
              "\n",
              "    .dataframe thead th {\n",
              "        text-align: right;\n",
              "    }\n",
              "</style>\n",
              "<table border=\"1\" class=\"dataframe\">\n",
              "  <thead>\n",
              "    <tr style=\"text-align: right;\">\n",
              "      <th></th>\n",
              "      <th>Date and Time</th>\n",
              "      <th>| Closing Price</th>\n",
              "    </tr>\n",
              "  </thead>\n",
              "  <tbody>\n",
              "    <tr>\n",
              "      <th>1505</th>\n",
              "      <td>3/24/2021 16:00:00</td>\n",
              "      <td>235.46</td>\n",
              "    </tr>\n",
              "    <tr>\n",
              "      <th>1506</th>\n",
              "      <td>3/25/2021 16:00:00</td>\n",
              "      <td>232.34</td>\n",
              "    </tr>\n",
              "    <tr>\n",
              "      <th>1507</th>\n",
              "      <td>3/26/2021 16:00:00</td>\n",
              "      <td>236.48</td>\n",
              "    </tr>\n",
              "    <tr>\n",
              "      <th>1508</th>\n",
              "      <td>3/29/2021 16:00:00</td>\n",
              "      <td>235.24</td>\n",
              "    </tr>\n",
              "    <tr>\n",
              "      <th>1509</th>\n",
              "      <td>3/30/2021 16:00:00</td>\n",
              "      <td>231.85</td>\n",
              "    </tr>\n",
              "    <tr>\n",
              "      <th>1510</th>\n",
              "      <td>3/31/2021 16:00:00</td>\n",
              "      <td>235.77</td>\n",
              "    </tr>\n",
              "  </tbody>\n",
              "</table>\n",
              "</div>\n",
              "      <button class=\"colab-df-convert\" onclick=\"convertToInteractive('df-8df68faf-2f38-48b4-84cc-acadd7b2620f')\"\n",
              "              title=\"Convert this dataframe to an interactive table.\"\n",
              "              style=\"display:none;\">\n",
              "        \n",
              "  <svg xmlns=\"http://www.w3.org/2000/svg\" height=\"24px\"viewBox=\"0 0 24 24\"\n",
              "       width=\"24px\">\n",
              "    <path d=\"M0 0h24v24H0V0z\" fill=\"none\"/>\n",
              "    <path d=\"M18.56 5.44l.94 2.06.94-2.06 2.06-.94-2.06-.94-.94-2.06-.94 2.06-2.06.94zm-11 1L8.5 8.5l.94-2.06 2.06-.94-2.06-.94L8.5 2.5l-.94 2.06-2.06.94zm10 10l.94 2.06.94-2.06 2.06-.94-2.06-.94-.94-2.06-.94 2.06-2.06.94z\"/><path d=\"M17.41 7.96l-1.37-1.37c-.4-.4-.92-.59-1.43-.59-.52 0-1.04.2-1.43.59L10.3 9.45l-7.72 7.72c-.78.78-.78 2.05 0 2.83L4 21.41c.39.39.9.59 1.41.59.51 0 1.02-.2 1.41-.59l7.78-7.78 2.81-2.81c.8-.78.8-2.07 0-2.86zM5.41 20L4 18.59l7.72-7.72 1.47 1.35L5.41 20z\"/>\n",
              "  </svg>\n",
              "      </button>\n",
              "      \n",
              "  <style>\n",
              "    .colab-df-container {\n",
              "      display:flex;\n",
              "      flex-wrap:wrap;\n",
              "      gap: 12px;\n",
              "    }\n",
              "\n",
              "    .colab-df-convert {\n",
              "      background-color: #E8F0FE;\n",
              "      border: none;\n",
              "      border-radius: 50%;\n",
              "      cursor: pointer;\n",
              "      display: none;\n",
              "      fill: #1967D2;\n",
              "      height: 32px;\n",
              "      padding: 0 0 0 0;\n",
              "      width: 32px;\n",
              "    }\n",
              "\n",
              "    .colab-df-convert:hover {\n",
              "      background-color: #E2EBFA;\n",
              "      box-shadow: 0px 1px 2px rgba(60, 64, 67, 0.3), 0px 1px 3px 1px rgba(60, 64, 67, 0.15);\n",
              "      fill: #174EA6;\n",
              "    }\n",
              "\n",
              "    [theme=dark] .colab-df-convert {\n",
              "      background-color: #3B4455;\n",
              "      fill: #D2E3FC;\n",
              "    }\n",
              "\n",
              "    [theme=dark] .colab-df-convert:hover {\n",
              "      background-color: #434B5C;\n",
              "      box-shadow: 0px 1px 3px 1px rgba(0, 0, 0, 0.15);\n",
              "      filter: drop-shadow(0px 1px 2px rgba(0, 0, 0, 0.3));\n",
              "      fill: #FFFFFF;\n",
              "    }\n",
              "  </style>\n",
              "\n",
              "      <script>\n",
              "        const buttonEl =\n",
              "          document.querySelector('#df-8df68faf-2f38-48b4-84cc-acadd7b2620f button.colab-df-convert');\n",
              "        buttonEl.style.display =\n",
              "          google.colab.kernel.accessAllowed ? 'block' : 'none';\n",
              "\n",
              "        async function convertToInteractive(key) {\n",
              "          const element = document.querySelector('#df-8df68faf-2f38-48b4-84cc-acadd7b2620f');\n",
              "          const dataTable =\n",
              "            await google.colab.kernel.invokeFunction('convertToInteractive',\n",
              "                                                     [key], {});\n",
              "          if (!dataTable) return;\n",
              "\n",
              "          const docLinkHtml = 'Like what you see? Visit the ' +\n",
              "            '<a target=\"_blank\" href=https://colab.research.google.com/notebooks/data_table.ipynb>data table notebook</a>'\n",
              "            + ' to learn more about interactive tables.';\n",
              "          element.innerHTML = '';\n",
              "          dataTable['output_type'] = 'display_data';\n",
              "          await google.colab.output.renderOutput(dataTable, element);\n",
              "          const docLink = document.createElement('div');\n",
              "          docLink.innerHTML = docLinkHtml;\n",
              "          element.appendChild(docLink);\n",
              "        }\n",
              "      </script>\n",
              "    </div>\n",
              "  </div>\n",
              "  "
            ]
          },
          "metadata": {},
          "execution_count": 46
        }
      ]
    },
    {
      "cell_type": "markdown",
      "source": [
        "> Definindo o tamanho da janela e criando a matriz de conhecimento:\n"
      ],
      "metadata": {
        "id": "e81MGDwuamrr"
      }
    },
    {
      "cell_type": "code",
      "source": [
        "window_size = 5\n",
        "\n",
        "data = np.zeros((len(df) - window_size, window_size + 1))\n",
        "for i in range(window_size, len(df)):\n",
        "    data[i-window_size, :-1] = df.iloc[i-window_size:i, 1].values\n",
        "    data[i-window_size, -1] = np.mean(df.iloc[i-window_size:i, 1])"
      ],
      "metadata": {
        "id": "e0UVSP_VkUhQ"
      },
      "execution_count": 42,
      "outputs": []
    },
    {
      "cell_type": "markdown",
      "source": [
        "> Exibindo a matriz de conhecimento:"
      ],
      "metadata": {
        "id": "__h2wHNbb9a7"
      }
    },
    {
      "cell_type": "code",
      "source": [
        "columns = [f'Day {i}' for i in range(1, window_size+1, 1)] + ['| Output']\n",
        "knowledge_matrix = pd.DataFrame(data, columns=columns)\n",
        "display(knowledge_matrix.tail(15))"
      ],
      "metadata": {
        "colab": {
          "base_uri": "https://localhost:8080/",
          "height": 519
        },
        "id": "L_MmKRu4tnCU",
        "outputId": "5ab96edc-9d5d-42f0-f0d2-ff47b02f732c"
      },
      "execution_count": 47,
      "outputs": [
        {
          "output_type": "display_data",
          "data": {
            "text/plain": [
              "       Day 1   Day 2   Day 3   Day 4   Day 5  | Output\n",
              "1491  226.73  231.60  227.39  233.78  232.42   230.384\n",
              "1492  231.60  227.39  233.78  232.42  237.13   232.464\n",
              "1493  227.39  233.78  232.42  237.13  235.75   233.294\n",
              "1494  233.78  232.42  237.13  235.75  234.81   234.778\n",
              "1495  232.42  237.13  235.75  234.81  237.71   235.564\n",
              "1496  237.13  235.75  234.81  237.71  237.04   236.488\n",
              "1497  235.75  234.81  237.71  237.04  230.72   235.206\n",
              "1498  234.81  237.71  237.04  230.72  230.35   234.126\n",
              "1499  237.71  237.04  230.72  230.35  235.99   234.362\n",
              "1500  237.04  230.72  230.35  235.99  237.58   234.336\n",
              "1501  230.72  230.35  235.99  237.58  235.46   234.020\n",
              "1502  230.35  235.99  237.58  235.46  232.34   234.344\n",
              "1503  235.99  237.58  235.46  232.34  236.48   235.570\n",
              "1504  237.58  235.46  232.34  236.48  235.24   235.420\n",
              "1505  235.46  232.34  236.48  235.24  231.85   234.274"
            ],
            "text/html": [
              "\n",
              "  <div id=\"df-7d93da8c-b2ec-486a-90e2-3f9334e64f90\">\n",
              "    <div class=\"colab-df-container\">\n",
              "      <div>\n",
              "<style scoped>\n",
              "    .dataframe tbody tr th:only-of-type {\n",
              "        vertical-align: middle;\n",
              "    }\n",
              "\n",
              "    .dataframe tbody tr th {\n",
              "        vertical-align: top;\n",
              "    }\n",
              "\n",
              "    .dataframe thead th {\n",
              "        text-align: right;\n",
              "    }\n",
              "</style>\n",
              "<table border=\"1\" class=\"dataframe\">\n",
              "  <thead>\n",
              "    <tr style=\"text-align: right;\">\n",
              "      <th></th>\n",
              "      <th>Day 1</th>\n",
              "      <th>Day 2</th>\n",
              "      <th>Day 3</th>\n",
              "      <th>Day 4</th>\n",
              "      <th>Day 5</th>\n",
              "      <th>| Output</th>\n",
              "    </tr>\n",
              "  </thead>\n",
              "  <tbody>\n",
              "    <tr>\n",
              "      <th>1491</th>\n",
              "      <td>226.73</td>\n",
              "      <td>231.60</td>\n",
              "      <td>227.39</td>\n",
              "      <td>233.78</td>\n",
              "      <td>232.42</td>\n",
              "      <td>230.384</td>\n",
              "    </tr>\n",
              "    <tr>\n",
              "      <th>1492</th>\n",
              "      <td>231.60</td>\n",
              "      <td>227.39</td>\n",
              "      <td>233.78</td>\n",
              "      <td>232.42</td>\n",
              "      <td>237.13</td>\n",
              "      <td>232.464</td>\n",
              "    </tr>\n",
              "    <tr>\n",
              "      <th>1493</th>\n",
              "      <td>227.39</td>\n",
              "      <td>233.78</td>\n",
              "      <td>232.42</td>\n",
              "      <td>237.13</td>\n",
              "      <td>235.75</td>\n",
              "      <td>233.294</td>\n",
              "    </tr>\n",
              "    <tr>\n",
              "      <th>1494</th>\n",
              "      <td>233.78</td>\n",
              "      <td>232.42</td>\n",
              "      <td>237.13</td>\n",
              "      <td>235.75</td>\n",
              "      <td>234.81</td>\n",
              "      <td>234.778</td>\n",
              "    </tr>\n",
              "    <tr>\n",
              "      <th>1495</th>\n",
              "      <td>232.42</td>\n",
              "      <td>237.13</td>\n",
              "      <td>235.75</td>\n",
              "      <td>234.81</td>\n",
              "      <td>237.71</td>\n",
              "      <td>235.564</td>\n",
              "    </tr>\n",
              "    <tr>\n",
              "      <th>1496</th>\n",
              "      <td>237.13</td>\n",
              "      <td>235.75</td>\n",
              "      <td>234.81</td>\n",
              "      <td>237.71</td>\n",
              "      <td>237.04</td>\n",
              "      <td>236.488</td>\n",
              "    </tr>\n",
              "    <tr>\n",
              "      <th>1497</th>\n",
              "      <td>235.75</td>\n",
              "      <td>234.81</td>\n",
              "      <td>237.71</td>\n",
              "      <td>237.04</td>\n",
              "      <td>230.72</td>\n",
              "      <td>235.206</td>\n",
              "    </tr>\n",
              "    <tr>\n",
              "      <th>1498</th>\n",
              "      <td>234.81</td>\n",
              "      <td>237.71</td>\n",
              "      <td>237.04</td>\n",
              "      <td>230.72</td>\n",
              "      <td>230.35</td>\n",
              "      <td>234.126</td>\n",
              "    </tr>\n",
              "    <tr>\n",
              "      <th>1499</th>\n",
              "      <td>237.71</td>\n",
              "      <td>237.04</td>\n",
              "      <td>230.72</td>\n",
              "      <td>230.35</td>\n",
              "      <td>235.99</td>\n",
              "      <td>234.362</td>\n",
              "    </tr>\n",
              "    <tr>\n",
              "      <th>1500</th>\n",
              "      <td>237.04</td>\n",
              "      <td>230.72</td>\n",
              "      <td>230.35</td>\n",
              "      <td>235.99</td>\n",
              "      <td>237.58</td>\n",
              "      <td>234.336</td>\n",
              "    </tr>\n",
              "    <tr>\n",
              "      <th>1501</th>\n",
              "      <td>230.72</td>\n",
              "      <td>230.35</td>\n",
              "      <td>235.99</td>\n",
              "      <td>237.58</td>\n",
              "      <td>235.46</td>\n",
              "      <td>234.020</td>\n",
              "    </tr>\n",
              "    <tr>\n",
              "      <th>1502</th>\n",
              "      <td>230.35</td>\n",
              "      <td>235.99</td>\n",
              "      <td>237.58</td>\n",
              "      <td>235.46</td>\n",
              "      <td>232.34</td>\n",
              "      <td>234.344</td>\n",
              "    </tr>\n",
              "    <tr>\n",
              "      <th>1503</th>\n",
              "      <td>235.99</td>\n",
              "      <td>237.58</td>\n",
              "      <td>235.46</td>\n",
              "      <td>232.34</td>\n",
              "      <td>236.48</td>\n",
              "      <td>235.570</td>\n",
              "    </tr>\n",
              "    <tr>\n",
              "      <th>1504</th>\n",
              "      <td>237.58</td>\n",
              "      <td>235.46</td>\n",
              "      <td>232.34</td>\n",
              "      <td>236.48</td>\n",
              "      <td>235.24</td>\n",
              "      <td>235.420</td>\n",
              "    </tr>\n",
              "    <tr>\n",
              "      <th>1505</th>\n",
              "      <td>235.46</td>\n",
              "      <td>232.34</td>\n",
              "      <td>236.48</td>\n",
              "      <td>235.24</td>\n",
              "      <td>231.85</td>\n",
              "      <td>234.274</td>\n",
              "    </tr>\n",
              "  </tbody>\n",
              "</table>\n",
              "</div>\n",
              "      <button class=\"colab-df-convert\" onclick=\"convertToInteractive('df-7d93da8c-b2ec-486a-90e2-3f9334e64f90')\"\n",
              "              title=\"Convert this dataframe to an interactive table.\"\n",
              "              style=\"display:none;\">\n",
              "        \n",
              "  <svg xmlns=\"http://www.w3.org/2000/svg\" height=\"24px\"viewBox=\"0 0 24 24\"\n",
              "       width=\"24px\">\n",
              "    <path d=\"M0 0h24v24H0V0z\" fill=\"none\"/>\n",
              "    <path d=\"M18.56 5.44l.94 2.06.94-2.06 2.06-.94-2.06-.94-.94-2.06-.94 2.06-2.06.94zm-11 1L8.5 8.5l.94-2.06 2.06-.94-2.06-.94L8.5 2.5l-.94 2.06-2.06.94zm10 10l.94 2.06.94-2.06 2.06-.94-2.06-.94-.94-2.06-.94 2.06-2.06.94z\"/><path d=\"M17.41 7.96l-1.37-1.37c-.4-.4-.92-.59-1.43-.59-.52 0-1.04.2-1.43.59L10.3 9.45l-7.72 7.72c-.78.78-.78 2.05 0 2.83L4 21.41c.39.39.9.59 1.41.59.51 0 1.02-.2 1.41-.59l7.78-7.78 2.81-2.81c.8-.78.8-2.07 0-2.86zM5.41 20L4 18.59l7.72-7.72 1.47 1.35L5.41 20z\"/>\n",
              "  </svg>\n",
              "      </button>\n",
              "      \n",
              "  <style>\n",
              "    .colab-df-container {\n",
              "      display:flex;\n",
              "      flex-wrap:wrap;\n",
              "      gap: 12px;\n",
              "    }\n",
              "\n",
              "    .colab-df-convert {\n",
              "      background-color: #E8F0FE;\n",
              "      border: none;\n",
              "      border-radius: 50%;\n",
              "      cursor: pointer;\n",
              "      display: none;\n",
              "      fill: #1967D2;\n",
              "      height: 32px;\n",
              "      padding: 0 0 0 0;\n",
              "      width: 32px;\n",
              "    }\n",
              "\n",
              "    .colab-df-convert:hover {\n",
              "      background-color: #E2EBFA;\n",
              "      box-shadow: 0px 1px 2px rgba(60, 64, 67, 0.3), 0px 1px 3px 1px rgba(60, 64, 67, 0.15);\n",
              "      fill: #174EA6;\n",
              "    }\n",
              "\n",
              "    [theme=dark] .colab-df-convert {\n",
              "      background-color: #3B4455;\n",
              "      fill: #D2E3FC;\n",
              "    }\n",
              "\n",
              "    [theme=dark] .colab-df-convert:hover {\n",
              "      background-color: #434B5C;\n",
              "      box-shadow: 0px 1px 3px 1px rgba(0, 0, 0, 0.15);\n",
              "      filter: drop-shadow(0px 1px 2px rgba(0, 0, 0, 0.3));\n",
              "      fill: #FFFFFF;\n",
              "    }\n",
              "  </style>\n",
              "\n",
              "      <script>\n",
              "        const buttonEl =\n",
              "          document.querySelector('#df-7d93da8c-b2ec-486a-90e2-3f9334e64f90 button.colab-df-convert');\n",
              "        buttonEl.style.display =\n",
              "          google.colab.kernel.accessAllowed ? 'block' : 'none';\n",
              "\n",
              "        async function convertToInteractive(key) {\n",
              "          const element = document.querySelector('#df-7d93da8c-b2ec-486a-90e2-3f9334e64f90');\n",
              "          const dataTable =\n",
              "            await google.colab.kernel.invokeFunction('convertToInteractive',\n",
              "                                                     [key], {});\n",
              "          if (!dataTable) return;\n",
              "\n",
              "          const docLinkHtml = 'Like what you see? Visit the ' +\n",
              "            '<a target=\"_blank\" href=https://colab.research.google.com/notebooks/data_table.ipynb>data table notebook</a>'\n",
              "            + ' to learn more about interactive tables.';\n",
              "          element.innerHTML = '';\n",
              "          dataTable['output_type'] = 'display_data';\n",
              "          await google.colab.output.renderOutput(dataTable, element);\n",
              "          const docLink = document.createElement('div');\n",
              "          docLink.innerHTML = docLinkHtml;\n",
              "          element.appendChild(docLink);\n",
              "        }\n",
              "      </script>\n",
              "    </div>\n",
              "  </div>\n",
              "  "
            ]
          },
          "metadata": {}
        }
      ]
    },
    {
      "cell_type": "code",
      "source": [
        "plt.plot(knowledge_matrix.index, knowledge_matrix['| Output'])\n",
        "plt.xlabel('Days')\n",
        "plt.ylabel('Price (in dollars)')\n",
        "plt.title('Daily Closing Values of Microsoft Stocks | Output')\n",
        "plt.show()"
      ],
      "metadata": {
        "colab": {
          "base_uri": "https://localhost:8080/",
          "height": 472
        },
        "id": "KZm3YBCee4PU",
        "outputId": "e1807218-2c74-49b4-8fcf-0e86d60c885e"
      },
      "execution_count": 48,
      "outputs": [
        {
          "output_type": "display_data",
          "data": {
            "text/plain": [
              "<Figure size 640x480 with 1 Axes>"
            ],
            "image/png": "[encoded data removed]"
          },
          "metadata": {}
        }
      ]
    },
    {
      "cell_type": "markdown",
      "source": [
        "### Construção do modelo de Inteligência Artificial para análise do código\n"
      ],
      "metadata": {
        "id": "zwe1noJjdWp7"
      }
    },
    {
      "cell_type": "markdown",
      "source": [
        "> Divisão dos dados em conjuntos de treino e teste:"
      ],
      "metadata": {
        "id": "ujC23mr_dl5Z"
      }
    },
    {
      "cell_type": "code",
      "source": [
        "train_size = int(0.8 * len(data))\n",
        "X_train, X_test = data[:train_size, :-1], data[train_size:, :-1]\n",
        "y_train, y_test = data[:train_size, -1], data[train_size:, -1]"
      ],
      "metadata": {
        "id": "Hxk3Q2zhvUum"
      },
      "execution_count": 31,
      "outputs": []
    },
    {
      "cell_type": "markdown",
      "source": [
        "> Treino do modelo de regressão linear e previsões nos dados de teste:"
      ],
      "metadata": {
        "id": "tI_Lv9ZpdqBl"
      }
    },
    {
      "cell_type": "code",
      "source": [
        "model = LinearRegression()\n",
        "model.fit(X_train, y_train)\n",
        "\n",
        "predictions = model.predict(X_test)"
      ],
      "metadata": {
        "id": "lwdkQjgIvbCb"
      },
      "execution_count": 32,
      "outputs": []
    },
    {
      "cell_type": "markdown",
      "source": [
        "> Cálculo do Erro Médio Absoluto (MAE) das previsões:"
      ],
      "metadata": {
        "id": "SJ4VhJyxdy4N"
      }
    },
    {
      "cell_type": "code",
      "source": [
        "mae = sum(abs(predictions - y_test)) / len(y_test)\n",
        "print(\"Erro médio absoluto (MAE):\", mae)"
      ],
      "metadata": {
        "colab": {
          "base_uri": "https://localhost:8080/"
        },
        "id": "UaWK64Iivmar",
        "outputId": "6344c141-c991-48e0-a50b-993d8e5272bc"
      },
      "execution_count": 33,
      "outputs": [
        {
          "output_type": "stream",
          "name": "stdout",
          "text": [
            "Erro médio absoluto (MAE): 4.22561176630841e-14\n"
          ]
        }
      ]
    },
    {
      "cell_type": "code",
      "source": [
        "df.tail(10)"
      ],
      "metadata": {
        "colab": {
          "base_uri": "https://localhost:8080/",
          "height": 363
        },
        "id": "-zt6K1nxjTd4",
        "outputId": "877e67d5-4207-4d30-f43d-6921e4c0cfc4"
      },
      "execution_count": 34,
      "outputs": [
        {
          "output_type": "execute_result",
          "data": {
            "text/plain": [
              "           Date and Time  | Closing Price\n",
              "1501  3/18/2021 16:00:00           230.72\n",
              "1502  3/19/2021 16:00:00           230.35\n",
              "1503  3/22/2021 16:00:00           235.99\n",
              "1504  3/23/2021 16:00:00           237.58\n",
              "1505  3/24/2021 16:00:00           235.46\n",
              "1506  3/25/2021 16:00:00           232.34\n",
              "1507  3/26/2021 16:00:00           236.48\n",
              "1508  3/29/2021 16:00:00           235.24\n",
              "1509  3/30/2021 16:00:00           231.85\n",
              "1510  3/31/2021 16:00:00           235.77"
            ],
            "text/html": [
              "\n",
              "  <div id=\"df-48a3feff-da23-49c3-96bb-e01dd9311f9e\">\n",
              "    <div class=\"colab-df-container\">\n",
              "      <div>\n",
              "<style scoped>\n",
              "    .dataframe tbody tr th:only-of-type {\n",
              "        vertical-align: middle;\n",
              "    }\n",
              "\n",
              "    .dataframe tbody tr th {\n",
              "        vertical-align: top;\n",
              "    }\n",
              "\n",
              "    .dataframe thead th {\n",
              "        text-align: right;\n",
              "    }\n",
              "</style>\n",
              "<table border=\"1\" class=\"dataframe\">\n",
              "  <thead>\n",
              "    <tr style=\"text-align: right;\">\n",
              "      <th></th>\n",
              "      <th>Date and Time</th>\n",
              "      <th>| Closing Price</th>\n",
              "    </tr>\n",
              "  </thead>\n",
              "  <tbody>\n",
              "    <tr>\n",
              "      <th>1501</th>\n",
              "      <td>3/18/2021 16:00:00</td>\n",
              "      <td>230.72</td>\n",
              "    </tr>\n",
              "    <tr>\n",
              "      <th>1502</th>\n",
              "      <td>3/19/2021 16:00:00</td>\n",
              "      <td>230.35</td>\n",
              "    </tr>\n",
              "    <tr>\n",
              "      <th>1503</th>\n",
              "      <td>3/22/2021 16:00:00</td>\n",
              "      <td>235.99</td>\n",
              "    </tr>\n",
              "    <tr>\n",
              "      <th>1504</th>\n",
              "      <td>3/23/2021 16:00:00</td>\n",
              "      <td>237.58</td>\n",
              "    </tr>\n",
              "    <tr>\n",
              "      <th>1505</th>\n",
              "      <td>3/24/2021 16:00:00</td>\n",
              "      <td>235.46</td>\n",
              "    </tr>\n",
              "    <tr>\n",
              "      <th>1506</th>\n",
              "      <td>3/25/2021 16:00:00</td>\n",
              "      <td>232.34</td>\n",
              "    </tr>\n",
              "    <tr>\n",
              "      <th>1507</th>\n",
              "      <td>3/26/2021 16:00:00</td>\n",
              "      <td>236.48</td>\n",
              "    </tr>\n",
              "    <tr>\n",
              "      <th>1508</th>\n",
              "      <td>3/29/2021 16:00:00</td>\n",
              "      <td>235.24</td>\n",
              "    </tr>\n",
              "    <tr>\n",
              "      <th>1509</th>\n",
              "      <td>3/30/2021 16:00:00</td>\n",
              "      <td>231.85</td>\n",
              "    </tr>\n",
              "    <tr>\n",
              "      <th>1510</th>\n",
              "      <td>3/31/2021 16:00:00</td>\n",
              "      <td>235.77</td>\n",
              "    </tr>\n",
              "  </tbody>\n",
              "</table>\n",
              "</div>\n",
              "      <button class=\"colab-df-convert\" onclick=\"convertToInteractive('df-48a3feff-da23-49c3-96bb-e01dd9311f9e')\"\n",
              "              title=\"Convert this dataframe to an interactive table.\"\n",
              "              style=\"display:none;\">\n",
              "        \n",
              "  <svg xmlns=\"http://www.w3.org/2000/svg\" height=\"24px\"viewBox=\"0 0 24 24\"\n",
              "       width=\"24px\">\n",
              "    <path d=\"M0 0h24v24H0V0z\" fill=\"none\"/>\n",
              "    <path d=\"M18.56 5.44l.94 2.06.94-2.06 2.06-.94-2.06-.94-.94-2.06-.94 2.06-2.06.94zm-11 1L8.5 8.5l.94-2.06 2.06-.94-2.06-.94L8.5 2.5l-.94 2.06-2.06.94zm10 10l.94 2.06.94-2.06 2.06-.94-2.06-.94-.94-2.06-.94 2.06-2.06.94z\"/><path d=\"M17.41 7.96l-1.37-1.37c-.4-.4-.92-.59-1.43-.59-.52 0-1.04.2-1.43.59L10.3 9.45l-7.72 7.72c-.78.78-.78 2.05 0 2.83L4 21.41c.39.39.9.59 1.41.59.51 0 1.02-.2 1.41-.59l7.78-7.78 2.81-2.81c.8-.78.8-2.07 0-2.86zM5.41 20L4 18.59l7.72-7.72 1.47 1.35L5.41 20z\"/>\n",
              "  </svg>\n",
              "      </button>\n",
              "      \n",
              "  <style>\n",
              "    .colab-df-container {\n",
              "      display:flex;\n",
              "      flex-wrap:wrap;\n",
              "      gap: 12px;\n",
              "    }\n",
              "\n",
              "    .colab-df-convert {\n",
              "      background-color: #E8F0FE;\n",
              "      border: none;\n",
              "      border-radius: 50%;\n",
              "      cursor: pointer;\n",
              "      display: none;\n",
              "      fill: #1967D2;\n",
              "      height: 32px;\n",
              "      padding: 0 0 0 0;\n",
              "      width: 32px;\n",
              "    }\n",
              "\n",
              "    .colab-df-convert:hover {\n",
              "      background-color: #E2EBFA;\n",
              "      box-shadow: 0px 1px 2px rgba(60, 64, 67, 0.3), 0px 1px 3px 1px rgba(60, 64, 67, 0.15);\n",
              "      fill: #174EA6;\n",
              "    }\n",
              "\n",
              "    [theme=dark] .colab-df-convert {\n",
              "      background-color: #3B4455;\n",
              "      fill: #D2E3FC;\n",
              "    }\n",
              "\n",
              "    [theme=dark] .colab-df-convert:hover {\n",
              "      background-color: #434B5C;\n",
              "      box-shadow: 0px 1px 3px 1px rgba(0, 0, 0, 0.15);\n",
              "      filter: drop-shadow(0px 1px 2px rgba(0, 0, 0, 0.3));\n",
              "      fill: #FFFFFF;\n",
              "    }\n",
              "  </style>\n",
              "\n",
              "      <script>\n",
              "        const buttonEl =\n",
              "          document.querySelector('#df-48a3feff-da23-49c3-96bb-e01dd9311f9e button.colab-df-convert');\n",
              "        buttonEl.style.display =\n",
              "          google.colab.kernel.accessAllowed ? 'block' : 'none';\n",
              "\n",
              "        async function convertToInteractive(key) {\n",
              "          const element = document.querySelector('#df-48a3feff-da23-49c3-96bb-e01dd9311f9e');\n",
              "          const dataTable =\n",
              "            await google.colab.kernel.invokeFunction('convertToInteractive',\n",
              "                                                     [key], {});\n",
              "          if (!dataTable) return;\n",
              "\n",
              "          const docLinkHtml = 'Like what you see? Visit the ' +\n",
              "            '<a target=\"_blank\" href=https://colab.research.google.com/notebooks/data_table.ipynb>data table notebook</a>'\n",
              "            + ' to learn more about interactive tables.';\n",
              "          element.innerHTML = '';\n",
              "          dataTable['output_type'] = 'display_data';\n",
              "          await google.colab.output.renderOutput(dataTable, element);\n",
              "          const docLink = document.createElement('div');\n",
              "          docLink.innerHTML = docLinkHtml;\n",
              "          element.appendChild(docLink);\n",
              "        }\n",
              "      </script>\n",
              "    </div>\n",
              "  </div>\n",
              "  "
            ]
          },
          "metadata": {},
          "execution_count": 34
        }
      ]
    },
    {
      "cell_type": "markdown",
      "source": [
        "> Previsão baseada no treinamento da IA para os próximos 7 dias úteis:"
      ],
      "metadata": {
        "id": "i6aaT57eedsW"
      }
    },
    {
      "cell_type": "code",
      "source": [
        "last_window = df.tail(window_size)['| Closing Price'].values\n",
        "next_days = []\n",
        "for i in range(7):\n",
        "    next_day = model.predict([np.concatenate(([df.iloc[-1, 1]], last_window[:-1]))])[0]\n",
        "    print(f\"Previsão para o dia {i+1}: {next_day}\")\n",
        "    next_days.append(next_day)\n",
        "    # Atualiza a janela de dados com a nova previsão\n",
        "    last_window = np.concatenate(([next_day], last_window[:-1]))"
      ],
      "metadata": {
        "colab": {
          "base_uri": "https://localhost:8080/"
        },
        "id": "T8cXSIT9vowz",
        "outputId": "241253c8-67b4-4070-c618-763b90588ff3"
      },
      "execution_count": 35,
      "outputs": [
        {
          "output_type": "stream",
          "name": "stdout",
          "text": [
            "Previsão para o dia 1: 234.33599999999996\n",
            "Previsão para o dia 2: 234.83319999999998\n",
            "Previsão para o dia 3: 234.75183999999996\n",
            "Previsão para o dia 4: 234.40620799999994\n",
            "Previsão para o dia 5: 234.81944959999993\n",
            "Previsão para o dia 6: 234.9161395199999\n",
            "Previsão para o dia 7: 234.9327274239999\n"
          ]
        }
      ]
    },
    {
      "cell_type": "markdown",
      "source": [
        "> Plotagem do gráfico dos últimos 21 dias úteis mais previsões de 7 dias úteis "
      ],
      "metadata": {
        "id": "VdpQIZ7P26yg"
      }
    },
    {
      "cell_type": "code",
      "source": [
        "df['Previsao'] = np.nan\n",
        "df.iloc[-7:, -1] = next_days\n",
        "\n",
        "# Cria um novo DataFrame com as colunas 'Close' e 'Previsao'\n",
        "concat_df = pd.concat([df[['| Closing Price']].tail(12 + len(next_days)), df[['Previsao']].tail(len(next_days))], ignore_index=True)\n",
        "\n",
        "# Plota o gráfico\n",
        "plt.plot(concat_df['| Closing Price'])\n",
        "plt.plot(concat_df['Previsao'])\n",
        "plt.legend(['Preço de Fechamento', 'Previsão'])\n",
        "plt.show()"
      ],
      "metadata": {
        "colab": {
          "base_uri": "https://localhost:8080/",
          "height": 430
        },
        "id": "bkxeFD891Ltn",
        "outputId": "36b71936-ce20-4573-d622-e4ee90af2fc4"
      },
      "execution_count": 36,
      "outputs": [
        {
          "output_type": "display_data",
          "data": {
            "text/plain": [
              "<Figure size 640x480 with 1 Axes>"
            ],
            "image/png": "[encoded data removed]"
          },
          "metadata": {}
        }
      ]
    }
  ]
}